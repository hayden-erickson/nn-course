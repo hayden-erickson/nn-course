{
 "cells": [
  {
   "cell_type": "markdown",
   "metadata": {},
   "source": [
    "# A Neuron\n",
    "\n",
    "Our decision maker was actually just a neuron in disguise. The importance values are actually called connection weights and the threshold value was the activation function. There are other types of activation functions besides a threshold. One is called a sigmoid function and another is called a rectified linear unit. So a nueron takes all of its inputs, combines them with the connection weights and uses an activation function to determine whether or not to \"fire.\" In the previous case a fire was a yes and the absence of a fire was a no. We don't just have to have a yes or no answer it can also be a continuous numeric value like the price of a house. \n",
    "\n",
    "Also the Neuron can have an arbitrary number of incoming connections, not just 2. Each of the connections gets its own weight or importance value. Lets reconstruct our decision maker as a neuron with its own state and allow it to have an arbitrary number of inputs."
   ]
  },
  {
   "cell_type": "code",
   "execution_count": 142,
   "metadata": {},
   "outputs": [],
   "source": [
    "import random as rand\n",
    "import numpy as np\n",
    "\n",
    "class Neuron:\n",
    "    def __init__(self, num_inputs, threshold):\n",
    "        self.weights = [rand.gauss(0, .2) for i in range(num_inputs)]\n",
    "        self.threshold = threshold\n",
    "   \n",
    "    def decide(self, inputs):\n",
    "        # multiply all the weights by all the inputs and sum them up\n",
    "        combine_inputs = sum([w * i for (w, i) in zip(self.weights, inputs)])\n",
    "        \n",
    "        if combine_inputs > self.threshold:\n",
    "            return 1\n",
    "        else:\n",
    "            return 0"
   ]
  },
  {
   "cell_type": "code",
   "execution_count": 161,
   "metadata": {},
   "outputs": [
    {
     "data": {
      "text/plain": [
       "0"
      ]
     },
     "execution_count": 161,
     "metadata": {},
     "output_type": "execute_result"
    }
   ],
   "source": [
    "num_inputs = 10\n",
    "threshold = 2\n",
    "n1 = Neuron(num_inputs, threshold)\n",
    "n1.decide([rand.randint(1, 10) for i in range(10)])"
   ]
  },
  {
   "cell_type": "markdown",
   "metadata": {},
   "source": [
    "So in order to create a neuron we pass in the number of inputs we want it to have and what our threshold is for it to fire. The input weights are randomly created with a mean of 0 and a standard deviation of .2. This just means that all the connections weights will be between -1 and 1 and most of them will be close to 0. We will see why we do this later on when we get to back propagation and gradient descent. \n",
    "\n",
    "# Why We Need Learning\n",
    "\n",
    "Now that we can have an arbitrary number of inputs, manually tweaking all of the connections weights would be very tedious. Not to mention, we don't really know if the manual tweaks make the neuron better or worse. As the number of inputs increase so do the number of possible modification we can make. As before, we may lower one weight and see that the neuron improves and just continue lowering the weight until there is no further improvement. However, we would have no way to know which combination of increases and decreases leads to the best decisions.\n",
    "\n",
    "Also, with our binary decision maker (yes or no) the only way we can tell how well it's doing is by counting the number of correct answers. The only way to improve the model is by trial and error of changing the weight values and seeing if the number of correct answers goes up. If our modification made the model better we can continue in the same \"direction of change\" that we made before namely increasing or decreasing a given weight. \n",
    "\n",
    "This process will not work for a continuous value though. For instance, if we wanted to predict what the price of a house should be given features like number of rooms, square footage, distance from a major city, etc. The price is not a yes or no answer, it's a number that could be any value. In that case there is no \"correct\" answer. If we have a bunch of examples of houses and what they actually sold for we can compare what our model outputs to the actual price. However, what if the actual price was $200,000 and our model predicted $185,000. Is that wrong? it is pretty close, but you probably wouldn't say wrong. That's within $15,000 and if we were to list a brand new home it would be good enough to give us a starting price!\n",
    "\n",
    "So we definitely need a different way to evaluate our neuron other than counting the number of correct answers so that we can find the best possible weights of each input. "
   ]
  }
 ],
 "metadata": {
  "kernelspec": {
   "display_name": "Python 3",
   "language": "python",
   "name": "python3"
  },
  "language_info": {
   "codemirror_mode": {
    "name": "ipython",
    "version": 3
   },
   "file_extension": ".py",
   "mimetype": "text/x-python",
   "name": "python",
   "nbconvert_exporter": "python",
   "pygments_lexer": "ipython3",
   "version": "3.6.5"
  }
 },
 "nbformat": 4,
 "nbformat_minor": 2
}
