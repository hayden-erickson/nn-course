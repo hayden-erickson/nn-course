{
 "cells": [
  {
   "cell_type": "code",
   "execution_count": 740,
   "metadata": {},
   "outputs": [],
   "source": [
    "import random as rand\n",
    "from statistics import mean, stdev\n",
    "from math import floor\n",
    "\n",
    "yes = 1\n",
    "no = 0"
   ]
  },
  {
   "cell_type": "markdown",
   "metadata": {},
   "source": [
    "# A Decision\n",
    "\n",
    "Let's say we wanted to build something that would decide for us if we wanted to go to the movies. We could base our decision on 2 variables, how much money do we have and how many of our friends are going. These two variables are independent because how many of are friends are going to the movies does not affect how much money we have (if only it did). \n",
    "\n",
    "However, we need to know both variables to make our decision. For instance, if we have enough money to go, but none of are friends are going then we probably won't want to go. On the other hand, if a lot of our friends are going, but we don't have the money we won't go either. Only the right combination of the variables leads to a yes. \n",
    "\n",
    "Because the answer is binary (yes or no) we can call this task a binary classification. We are trying to make something that can take in an amount of money, and a number of friends and output one of two classes, yes or no. \n",
    "\n",
    "We can think of this task as a function\n",
    "\n",
    "If we simply created this function with no other variables there would be no machine learning involved. There is no state that we can update to affect what decision is made. So we know we need some other values in order to affect the final decision. Also we need a way to combine the extra values with the input to actually have our function return a 1 or a 0 for a yes or no. One way to do this is with a threshold. We can say that if our combine inputs exceed some value the our answer is yes and if they're below some value then no. \n"
   ]
  },
  {
   "cell_type": "markdown",
   "metadata": {},
   "source": [
    "# Importance Values\n",
    "by changing the importance values below you will \n",
    "change what \"decision\" the decide_on_movies function \n",
    "makes. These values affect how \"important\" the input \n",
    "value is in making the decision. In other words they \n",
    "are weights for each input. In concrete terms, if you \n",
    "are a movie buff and you don't care about going to the \n",
    "movies by yourself, then the importance value for \n",
    "number of friends may be 0. This would mean that you \n",
    "don't care at all about how many of your friends are \n",
    "going, you just care about whether or not you have \n",
    "enough money."
   ]
  },
  {
   "cell_type": "code",
   "execution_count": 768,
   "metadata": {},
   "outputs": [],
   "source": [
    "# =========== MODIFY THESE VALUES ===========\n",
    "\n",
    "money_importance = .1\n",
    "friend_importance = .1\n",
    "threshold = 5\n",
    "\n",
    "# =========== MODIFY THESE VALUES ==========="
   ]
  },
  {
   "cell_type": "code",
   "execution_count": 769,
   "metadata": {},
   "outputs": [],
   "source": [
    "# actually \"make the decision\"\n",
    "def decide_on_movies(number_friends, amount_money):\n",
    "    combine_inputs = (money_importance * amount_money) + (friend_importance * number_friends)\n",
    "\n",
    "    if combine_inputs > threshold:\n",
    "        return yes\n",
    "    else:\n",
    "        return no"
   ]
  },
  {
   "cell_type": "markdown",
   "metadata": {},
   "source": [
    "# A Dataset\n",
    "\n",
    "Now these importance values are like knobs or sliders that we can tune to affect the final outcome of our decision maker. But, how do we know what changes to make so that our decision maker is actually good? We need some way to determine how good our decisions are that way if we change the importance values we can see if they are better or worse than they were before. What if we try to compare the number of correct answers with the number of incorrect answers. In order to do that we need a number of existing answers. Here is where our dataset comes in. We need some examples of inputs and their corresponding correct outputs. Because of the simplicity of the data, we can create some examples. We can create 100 just to get a good percentage. "
   ]
  },
  {
   "cell_type": "code",
   "execution_count": 761,
   "metadata": {
    "scrolled": false
   },
   "outputs": [],
   "source": [
    "def generate_example():\n",
    "    money = rand.randint(0, 20)\n",
    "    friends = rand.randint(0, 5)\n",
    "    decision = no\n",
    "    \n",
    "    # if we have more than $10 and at least \n",
    "    # 1 of our friends are going then we will go\n",
    "    if money > 10 and friends > 0:\n",
    "        decision = yes\n",
    "        \n",
    "    return (friends, money, decision)\n",
    "   "
   ]
  },
  {
   "cell_type": "code",
   "execution_count": 762,
   "metadata": {},
   "outputs": [],
   "source": [
    "def evaluate_model(num_examples):\n",
    "    # create a dataset\n",
    "    examples = [generate_example() for i in range(num_examples)]\n",
    "\n",
    "    # use our decision maker to \"decide\" whether or not we should go to the movies\n",
    "    predictions = [decide_on_movies(friends, money) for (friends, money, decision) in examples]\n",
    "\n",
    "    # pull out all the actual answers from our dataset\n",
    "    correct_answers = [decision for (f, m, decision) in examples]\n",
    "\n",
    "    num_correct = 0\n",
    "\n",
    "    # see how many answers our decision maker got right\n",
    "    for (prediction, correct_answer) in zip(predictions, correct_answers):\n",
    "        if prediction == correct_answer:\n",
    "            num_correct += 1\n",
    "    \n",
    "    # the ratio of correct answers to the total number of examples\n",
    "    return (num_correct/num_examples)\n"
   ]
  },
  {
   "cell_type": "code",
   "execution_count": 767,
   "metadata": {},
   "outputs": [
    {
     "name": "stdout",
     "output_type": "stream",
     "text": [
      "60% correct, 4% spread\n"
     ]
    }
   ],
   "source": [
    "# evaluate the model multiple times to get an accurate representation of how it performs\n",
    "num_examples = 100\n",
    "num_evaluations = 100\n",
    "evaluations = [evaluate_model(num_examples) for i in range(num_evaluations)]\n",
    "\n",
    "avg = mean(evaluations)\n",
    "variance = stdev(evaluations)\n",
    "print('{}% correct, {}% spread'.format(floor(avg * 100), floor(variance * 100)))\n"
   ]
  },
  {
   "cell_type": "markdown",
   "metadata": {},
   "source": [
    "If you run the preceeding block you will see that the decision maker gets about 60% of the answers correct on whether or not we should go to the movies. I randomly chose the importance values and they don't give us very good results! So how can we update them to improve our decision maker?"
   ]
  },
  {
   "cell_type": "markdown",
   "metadata": {},
   "source": [
    "# Training\n",
    "\n",
    "This is how we are going to make our decision maker better. When we run our evaluator, we see how well our model performs. We could then change the importance values and see if the model gets better or worse. If we decreased the values and the decision maker got better, then we could continue decreasing them until our results no longer improve. Try modifying the importance values above to see if you can improve the performance."
   ]
  }
 ],
 "metadata": {
  "kernelspec": {
   "display_name": "Python 3",
   "language": "python",
   "name": "python3"
  },
  "language_info": {
   "codemirror_mode": {
    "name": "ipython",
    "version": 3
   },
   "file_extension": ".py",
   "mimetype": "text/x-python",
   "name": "python",
   "nbconvert_exporter": "python",
   "pygments_lexer": "ipython3",
   "version": "3.6.5"
  }
 },
 "nbformat": 4,
 "nbformat_minor": 2
}
