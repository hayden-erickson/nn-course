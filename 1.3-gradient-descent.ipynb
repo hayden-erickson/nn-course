{
 "cells": [
  {
   "cell_type": "markdown",
   "metadata": {},
   "source": [
    "# Gradient Descent\n",
    "\n",
    "Our decision maker was pretty good and updating the importance values is somewhat fun. However, what if we have more than 2 importance values? What if we didn't actually find the BEST values by updating them manually? Is there a better way to find the optimal values for these parameters? Yes! Gradient Descent is our answer. Gradient Descent will allow us to find the best possible values for the importance parameters. This will ensure that our decision maker is as good as it can be! "
   ]
  }
 ],
 "metadata": {
  "kernelspec": {
   "display_name": "Python 3",
   "language": "python",
   "name": "python3"
  },
  "language_info": {
   "codemirror_mode": {
    "name": "ipython",
    "version": 3
   },
   "file_extension": ".py",
   "mimetype": "text/x-python",
   "name": "python",
   "nbconvert_exporter": "python",
   "pygments_lexer": "ipython3",
   "version": "3.6.5"
  }
 },
 "nbformat": 4,
 "nbformat_minor": 2
}
