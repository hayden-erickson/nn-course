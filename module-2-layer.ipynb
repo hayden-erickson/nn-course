{
 "cells": [
  {
   "cell_type": "markdown",
   "metadata": {},
   "source": [
    "# The Layer\n",
    "Instead of iterating over all of the inputs we can treat the inputs and the weights as vectors and use a dot product. That is the same as multiplying the elements one by one and summing up the results."
   ]
  },
  {
   "cell_type": "code",
   "execution_count": 5,
   "metadata": {},
   "outputs": [
    {
     "data": {
      "text/plain": [
       "5.808883987593707"
      ]
     },
     "execution_count": 5,
     "metadata": {},
     "output_type": "execute_result"
    }
   ],
   "source": [
    "import numpy as np\n",
    "\n",
    "class Neuron:\n",
    "    def __init__(self, number_of_inputs):\n",
    "        self.weights = np.random.uniform(-1, 1, size=number_of_inputs)\n",
    "        self.bias = np.random.uniform(-1, 1)\n",
    "        \n",
    "    def predict(self, inputs):\n",
    "        return self.weights.dot(inputs) + self.bias\n",
    "    \n",
    "neuron = Neuron(5)\n",
    "\n",
    "neuron.predict(np.array([4, 9, 11, 12, 25]))"
   ]
  },
  {
   "cell_type": "markdown",
   "metadata": {},
   "source": [
    "Now the only thing our neuron stores is a weight vector and a bias value. So if we have a list of neuron that all do the same thing we can store all of their weights as a matrix and all of their biases as vector. In other words all the neurons have 1 connection per input and a single output. They don't have connections to each other only to the inputs. "
   ]
  },
  {
   "cell_type": "code",
   "execution_count": 6,
   "metadata": {},
   "outputs": [
    {
     "data": {
      "text/plain": [
       "array([-22.24100359,  94.87863578, -67.07239799, -28.29942473,\n",
       "        70.58439759])"
      ]
     },
     "execution_count": 6,
     "metadata": {},
     "output_type": "execute_result"
    }
   ],
   "source": [
    "num_inputs = 10\n",
    "num_neurons = 5\n",
    "\n",
    "\n",
    "class Layer:\n",
    "    def __init__(self, num_inputs, num_neurons):\n",
    "        # we now have 1 row per neuron and 1 column per weight\n",
    "        self.weights = np.random.uniform(-1, 1, size=(num_neurons, num_inputs))\n",
    "\n",
    "        # we also randomly create a bias for each neuron\n",
    "        self.biases = np.random.uniform(-1, 1, size=num_neurons)\n",
    "    \n",
    "    def predict(self, inputs):\n",
    "        return self.weights.dot(inputs) + self.biases\n",
    "\n",
    "        \n",
    "layer = Layer(num_inputs, num_neurons)\n",
    "\n",
    "# now we have 1 output per neuron in our layer\n",
    "layer.predict(np.array([5, 1, 2, 11, 20, 15, 3, 18, 92, 10]))\n"
   ]
  },
  {
   "cell_type": "markdown",
   "metadata": {},
   "source": [
    "## Layer Activation\n",
    "\n",
    "We can also add an activation function to our layer. In That case, the output from each neuron in the layer is passed into the activation function individually. However, there is a case where we use all of the outputs of the layer as the input to the activation function.\n",
    "\n",
    "The softmax activation function takes in all layer outputs at once. Why is it called softmax, well it basically turns all the outputs into a value between 0 and 1. However, unlike the sigmoid activation function, the value of an output is a ratio of the total sum output. In other words we sum up all the outputs and divide each neuron value by the total. This is basically telling us which neuron had the max value (i.e. softmax). For instance if we have 4 output neurons and their output values were 10, 5, 75, 10 the third neuron is obviously the max and their converted softmax values would be .1, .05, .75, .1 . You can see that no neuron can ever be greater than 1 or less than 0. Also, if we're doing a classification the 4 values could represent types of houses ranch, townhouse, duplex, standalone. If a house can only belong to one class the for softmax we would want the value of that class to be 1 and all the rest to be 0. For instance if the house were a townhouse, we would want the layer to output 0, 1, 0, 0. This basically means the network is 100% sure the house is a townhouse.\n",
    "\n",
    "There is one extra step we need for softmax however and that is to use each neuron value as an exponent. The reason for this is to make negative values positive. If the output of softmax is supposed to represent probabilities we can't have them negative. Therefore, instead of summing up all neuron output, we sum up each output as an exponential. We also use the neuron output as an exponential to get the final ratio. That's a lot of jargon so it may be more helpful to look at the code."
   ]
  },
  {
   "cell_type": "code",
   "execution_count": 7,
   "metadata": {},
   "outputs": [
    {
     "name": "stdout",
     "output_type": "stream",
     "text": [
      "sigmoid layer: [1.0, 0.8375247559137654, 1.0, 1.0]\n",
      "softmax layer: [1.1191390335066746e-13, 2.539919710378433e-34, 0.9999999999998881, 3.992894505348539e-24]\n"
     ]
    }
   ],
   "source": [
    "from math import exp\n",
    "\n",
    "def sigmoid(z):\n",
    "    return 1.0/(1.0 + exp(-z))\n",
    "\n",
    "class SigmoidLayer:\n",
    "    def __init__(self, num_inputs, num_neurons):\n",
    "        # we now have 1 row per neuron and 1 column per weight\n",
    "        self.weights = np.random.uniform(-1, 1, size=(num_neurons, num_inputs))\n",
    "\n",
    "        # we also randomly create a bias for each neuron\n",
    "        self.biases = np.random.uniform(-1, 1, size=num_neurons)\n",
    "    \n",
    "    def predict(self, inputs):\n",
    "        weighted_input = self.weights.dot(inputs) + self.biases\n",
    "        \n",
    "        # now we simply pass each output value into the activation function\n",
    "        return [sigmoid(z) for z in weighted_input]\n",
    "\n",
    "\n",
    "class SoftmaxLayer:\n",
    "    def __init__(self, num_inputs, num_neurons):\n",
    "        self.weights = np.random.uniform(-1, 1, size=(num_neurons, num_inputs))\n",
    "        self.biases = np.random.uniform(-1, 1, size=num_neurons)\n",
    "    \n",
    "    def predict(self, inputs):\n",
    "        weighted_input = self.weights.dot(inputs) + self.biases\n",
    "        \n",
    "        # this is where we take each value z and convert it to e^(z)\n",
    "        # so that all values are positive\n",
    "        weighted_input_exp = [exp(z) for z in weighted_input]\n",
    "        \n",
    "        # now we take the total of our exponential values\n",
    "        total = sum(weighted_input_exp)\n",
    "        \n",
    "        # here you can see that when we divide to get the final probability \n",
    "        # we also use the exponential. This makes all our outputs add up to 1\n",
    "        # so that the represent probabilities\n",
    "        return [exp(z)/total for z in weighted_input]\n",
    "    \n",
    "num_inputs, num_neurons = (10, 4)\n",
    "\n",
    "layer = SigmoidLayer(num_inputs, num_neurons)\n",
    "smLayer = SoftmaxLayer(num_inputs, num_neurons)\n",
    "\n",
    "\n",
    "layer_input = np.array([5, 1, 2, 11, 20, 15, 3, 18, 92, 10])\n",
    "\n",
    "# All outputs from the sigmoid layer are between 0 and 1. \n",
    "# However, when we sum them up they may come out to be much greater than 1\n",
    "print('sigmoid layer: {}'.format(layer.predict(layer_input)))\n",
    "\n",
    "# Compare sigmoid to softmax. Here all outputs are guaranteed to sum to 1\n",
    "# This is what we would expect for probabilities of something happening.\n",
    "print('softmax layer: {}'.format(smLayer.predict(layer_input)))"
   ]
  },
  {
   "cell_type": "markdown",
   "metadata": {},
   "source": [
    "## Going Deep\n",
    "\n",
    "We can chain multiple layers together as long as the number of outputs from a previous layer matches the number of inputs to the next. This is what real neural networks look like. Some have dozens or even hundreds of layers.\n",
    "\n",
    "Here we can make the final layer softmax so that our outputs represent a class that the network \"thinks\" the input belongs to. However, we are not limited in the output of our hidden layers. They can have sigmoid, linear, relu, or any other output we want."
   ]
  },
  {
   "cell_type": "code",
   "execution_count": 8,
   "metadata": {},
   "outputs": [
    {
     "name": "stdout",
     "output_type": "stream",
     "text": [
      "===== input \"image\" =====\n"
     ]
    },
    {
     "data": {
      "image/png": "[encoded data removed]",
      "text/plain": [
       "<Figure size 432x288 with 1 Axes>"
      ]
     },
     "metadata": {
      "needs_background": "light"
     },
     "output_type": "display_data"
    },
    {
     "name": "stdout",
     "output_type": "stream",
     "text": [
      "\n",
      " === Get the max probability === \n",
      " I think the image is \"number\"\n"
     ]
    }
   ],
   "source": [
    "import matplotlib.pyplot as plt\n",
    "\n",
    "# this is a 10X10 matrix of 100 values that represents our \"image\"\n",
    "# which could be a letter, a number, or punctuation\n",
    "image_width = 10\n",
    "num_inputs = image_width*image_width\n",
    "\n",
    "# there are 10 neurons in the first layer\n",
    "num_neurons_l1 = 10\n",
    "\n",
    "# there are 5 neurons in the second layer\n",
    "num_neurons_l2 = 5\n",
    "\n",
    "# there are 3 outputs of our softmax layer\n",
    "# representing 3 image classes. Let's say the \n",
    "# classes are letter, number, punctuation\n",
    "num_outputs = 3\n",
    "\n",
    "layer1 = Layer(num_inputs, num_neurons_l1)\n",
    "layer2 = SigmoidLayer(num_neurons_l1, num_neurons_l2)\n",
    "layer3 = SoftmaxLayer(num_neurons_l2, num_outputs)\n",
    "\n",
    "# lets say these are pixel values that make a \n",
    "# 10X10 = 100 pixel grayscale image. The value\n",
    "# of each pixel can be between 0 and 1\n",
    "network_input = np.random.uniform(0, 1, size=(image_width, image_width))\n",
    "\n",
    "\n",
    "# now we chain the inputs and outputs together to get the final result\n",
    "# for the network input we have to flatten it from a 10X10 matrix to a \n",
    "# vector of length 100\n",
    "output_l1 = layer1.predict(network_input.flatten())\n",
    "\n",
    "output_l2 = layer2.predict(output_l1)\n",
    "\n",
    "final_output = layer3.predict(output_l2)\n",
    "\n",
    "print('===== input \"image\" =====')\n",
    "\n",
    "# show our \"image\"\n",
    "plt.imshow(network_input, shape=(10, 10))\n",
    "plt.show()\n",
    "\n",
    "classes = ['letter', 'number', 'punctuation']\n",
    "# get index of max value\n",
    "\n",
    "class_idx = final_output.index(max(final_output))\n",
    "\n",
    "print('\\n === Get the max probability === \\n I think the image is \"{}\"'.format(classes[class_idx]))"
   ]
  },
  {
   "cell_type": "markdown",
   "metadata": {},
   "source": [
    "## We just made a neural network that classifies images!!!!\n",
    "\n",
    "It's not very good because it hasn't learned anything and it's just taking in random noise images. BUT WE HAVE A WORKING NEURAL NETWORK"
   ]
  }
 ],
 "metadata": {
  "kernelspec": {
   "display_name": "Python 3",
   "language": "python",
   "name": "python3"
  },
  "language_info": {
   "codemirror_mode": {
    "name": "ipython",
    "version": 3
   },
   "file_extension": ".py",
   "mimetype": "text/x-python",
   "name": "python",
   "nbconvert_exporter": "python",
   "pygments_lexer": "ipython3",
   "version": "3.6.5"
  }
 },
 "nbformat": 4,
 "nbformat_minor": 2
}
